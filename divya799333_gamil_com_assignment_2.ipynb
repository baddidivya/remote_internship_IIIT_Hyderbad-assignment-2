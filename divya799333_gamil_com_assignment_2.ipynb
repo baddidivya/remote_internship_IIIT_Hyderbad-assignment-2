{
  "nbformat": 4,
  "nbformat_minor": 0,
  "metadata": {
    "colab": {
      "provenance": []
    },
    "kernelspec": {
      "name": "python3",
      "display_name": "Python 3"
    },
    "language_info": {
      "name": "python"
    }
  },
  "cells": [
    {
      "cell_type": "markdown",
      "source": [
        "# <center>Assignment 2</center>"
      ],
      "metadata": {
        "id": "PT1uWniEvlxd"
      }
    },
    {
      "cell_type": "markdown",
      "source": [
        "### Instructions:"
      ],
      "metadata": {
        "id": "mN4JSm_Jvrbh"
      }
    },
    {
      "cell_type": "markdown",
      "source": [
        "1. Solve below assignment problems in the colab notebook only and submit the same on or before the deadline.\n",
        "* Naming convention for the colab notebook file should be email_assignment_2.ipynb\n",
        "* Do not copy & paste the code from online. If we do so, you will be rewarded with 0 score for the respective question.\n",
        "* If you have any queries, please reach out the assignments channel in Microsoft Teams.\n",
        "* You can refer to online resources for solving these questions but don’t copy the code."
      ],
      "metadata": {
        "id": "ofB7rlTqwuHc"
      }
    },
    {
      "cell_type": "markdown",
      "source": [
        "#### Problem : 1"
      ],
      "metadata": {
        "id": "EyLU5HI5w3Cy"
      }
    },
    {
      "cell_type": "code",
      "source": [
        "def add_numbers(num_1, num_2):\n",
        "    '''\n",
        "        write a program to add given two numbers with exception handling\n",
        "        INPUT\n",
        "            num_1: input integer\n",
        "            num_2: input integer\n",
        "        OUTPUT\n",
        "            Return the sum of given two numbers if they are valid integers.\n",
        "            Otherwise, return type of Error.\n",
        "        \n",
        "        Note: Replace the None with output in return statement.\n",
        "        Example1:\n",
        "            input:\n",
        "                num1 = 1\n",
        "                num2 = 2\n",
        "            output:\n",
        "            3\n",
        "        Example2:\n",
        "            input:\n",
        "                num1 = 1\n",
        "                num2 = hi\n",
        "            output:\n",
        "                NameError\n",
        "    '''\n",
        "    \n",
        "    # Write your code here\n",
        "    try:\n",
        "      num_1=int(num_1)\n",
        "      num_2=int(num_2)\n",
        "      sum = num_1 + num_2\n",
        "      return su,\n",
        "    except ValueError:\n",
        "      return \"Error: Invalid input so Please give valid integers\"\n",
        "num_1=input(\"Enter first value:\")\n",
        "num_2=input(\"Enter second value:\")\n",
        "\n",
        "try:\n",
        "  result=add_numbers(num_1, num_2)\n",
        "  print(result)\n",
        "except Exception as e:\n",
        "  print(str(e))\n",
        "\n",
        "    \n",
        "    # End of your code block\n",
        "    \n",
        "\n"
      ],
      "metadata": {
        "id": "9YlCIXHDw3gu",
        "colab": {
          "base_uri": "https://localhost:8080/"
        },
        "outputId": "bf0a11e4-b76e-402c-b73f-4a41e18445cd"
      },
      "execution_count": 12,
      "outputs": [
        {
          "output_type": "stream",
          "name": "stdout",
          "text": [
            "Enter first value:h1\n",
            "Enter second value:2\n",
            "Error: Invalid input so Please give valid integers\n"
          ]
        }
      ]
    },
    {
      "cell_type": "code",
      "source": [
        "from google.colab import files\n",
        "uploaded = files.upload()"
      ],
      "metadata": {
        "colab": {
          "base_uri": "https://localhost:8080/",
          "height": 73
        },
        "id": "mXFA5pnFh4Zi",
        "outputId": "b2d25f87-9337-4de8-c900-ef32c3ac48a2"
      },
      "execution_count": 13,
      "outputs": [
        {
          "output_type": "display_data",
          "data": {
            "text/plain": [
              "<IPython.core.display.HTML object>"
            ],
            "text/html": [
              "\n",
              "     <input type=\"file\" id=\"files-0bd1314e-b98f-47d3-8ddc-1c70ef76a64b\" name=\"files[]\" multiple disabled\n",
              "        style=\"border:none\" />\n",
              "     <output id=\"result-0bd1314e-b98f-47d3-8ddc-1c70ef76a64b\">\n",
              "      Upload widget is only available when the cell has been executed in the\n",
              "      current browser session. Please rerun this cell to enable.\n",
              "      </output>\n",
              "      <script>// Copyright 2017 Google LLC\n",
              "//\n",
              "// Licensed under the Apache License, Version 2.0 (the \"License\");\n",
              "// you may not use this file except in compliance with the License.\n",
              "// You may obtain a copy of the License at\n",
              "//\n",
              "//      http://www.apache.org/licenses/LICENSE-2.0\n",
              "//\n",
              "// Unless required by applicable law or agreed to in writing, software\n",
              "// distributed under the License is distributed on an \"AS IS\" BASIS,\n",
              "// WITHOUT WARRANTIES OR CONDITIONS OF ANY KIND, either express or implied.\n",
              "// See the License for the specific language governing permissions and\n",
              "// limitations under the License.\n",
              "\n",
              "/**\n",
              " * @fileoverview Helpers for google.colab Python module.\n",
              " */\n",
              "(function(scope) {\n",
              "function span(text, styleAttributes = {}) {\n",
              "  const element = document.createElement('span');\n",
              "  element.textContent = text;\n",
              "  for (const key of Object.keys(styleAttributes)) {\n",
              "    element.style[key] = styleAttributes[key];\n",
              "  }\n",
              "  return element;\n",
              "}\n",
              "\n",
              "// Max number of bytes which will be uploaded at a time.\n",
              "const MAX_PAYLOAD_SIZE = 100 * 1024;\n",
              "\n",
              "function _uploadFiles(inputId, outputId) {\n",
              "  const steps = uploadFilesStep(inputId, outputId);\n",
              "  const outputElement = document.getElementById(outputId);\n",
              "  // Cache steps on the outputElement to make it available for the next call\n",
              "  // to uploadFilesContinue from Python.\n",
              "  outputElement.steps = steps;\n",
              "\n",
              "  return _uploadFilesContinue(outputId);\n",
              "}\n",
              "\n",
              "// This is roughly an async generator (not supported in the browser yet),\n",
              "// where there are multiple asynchronous steps and the Python side is going\n",
              "// to poll for completion of each step.\n",
              "// This uses a Promise to block the python side on completion of each step,\n",
              "// then passes the result of the previous step as the input to the next step.\n",
              "function _uploadFilesContinue(outputId) {\n",
              "  const outputElement = document.getElementById(outputId);\n",
              "  const steps = outputElement.steps;\n",
              "\n",
              "  const next = steps.next(outputElement.lastPromiseValue);\n",
              "  return Promise.resolve(next.value.promise).then((value) => {\n",
              "    // Cache the last promise value to make it available to the next\n",
              "    // step of the generator.\n",
              "    outputElement.lastPromiseValue = value;\n",
              "    return next.value.response;\n",
              "  });\n",
              "}\n",
              "\n",
              "/**\n",
              " * Generator function which is called between each async step of the upload\n",
              " * process.\n",
              " * @param {string} inputId Element ID of the input file picker element.\n",
              " * @param {string} outputId Element ID of the output display.\n",
              " * @return {!Iterable<!Object>} Iterable of next steps.\n",
              " */\n",
              "function* uploadFilesStep(inputId, outputId) {\n",
              "  const inputElement = document.getElementById(inputId);\n",
              "  inputElement.disabled = false;\n",
              "\n",
              "  const outputElement = document.getElementById(outputId);\n",
              "  outputElement.innerHTML = '';\n",
              "\n",
              "  const pickedPromise = new Promise((resolve) => {\n",
              "    inputElement.addEventListener('change', (e) => {\n",
              "      resolve(e.target.files);\n",
              "    });\n",
              "  });\n",
              "\n",
              "  const cancel = document.createElement('button');\n",
              "  inputElement.parentElement.appendChild(cancel);\n",
              "  cancel.textContent = 'Cancel upload';\n",
              "  const cancelPromise = new Promise((resolve) => {\n",
              "    cancel.onclick = () => {\n",
              "      resolve(null);\n",
              "    };\n",
              "  });\n",
              "\n",
              "  // Wait for the user to pick the files.\n",
              "  const files = yield {\n",
              "    promise: Promise.race([pickedPromise, cancelPromise]),\n",
              "    response: {\n",
              "      action: 'starting',\n",
              "    }\n",
              "  };\n",
              "\n",
              "  cancel.remove();\n",
              "\n",
              "  // Disable the input element since further picks are not allowed.\n",
              "  inputElement.disabled = true;\n",
              "\n",
              "  if (!files) {\n",
              "    return {\n",
              "      response: {\n",
              "        action: 'complete',\n",
              "      }\n",
              "    };\n",
              "  }\n",
              "\n",
              "  for (const file of files) {\n",
              "    const li = document.createElement('li');\n",
              "    li.append(span(file.name, {fontWeight: 'bold'}));\n",
              "    li.append(span(\n",
              "        `(${file.type || 'n/a'}) - ${file.size} bytes, ` +\n",
              "        `last modified: ${\n",
              "            file.lastModifiedDate ? file.lastModifiedDate.toLocaleDateString() :\n",
              "                                    'n/a'} - `));\n",
              "    const percent = span('0% done');\n",
              "    li.appendChild(percent);\n",
              "\n",
              "    outputElement.appendChild(li);\n",
              "\n",
              "    const fileDataPromise = new Promise((resolve) => {\n",
              "      const reader = new FileReader();\n",
              "      reader.onload = (e) => {\n",
              "        resolve(e.target.result);\n",
              "      };\n",
              "      reader.readAsArrayBuffer(file);\n",
              "    });\n",
              "    // Wait for the data to be ready.\n",
              "    let fileData = yield {\n",
              "      promise: fileDataPromise,\n",
              "      response: {\n",
              "        action: 'continue',\n",
              "      }\n",
              "    };\n",
              "\n",
              "    // Use a chunked sending to avoid message size limits. See b/62115660.\n",
              "    let position = 0;\n",
              "    do {\n",
              "      const length = Math.min(fileData.byteLength - position, MAX_PAYLOAD_SIZE);\n",
              "      const chunk = new Uint8Array(fileData, position, length);\n",
              "      position += length;\n",
              "\n",
              "      const base64 = btoa(String.fromCharCode.apply(null, chunk));\n",
              "      yield {\n",
              "        response: {\n",
              "          action: 'append',\n",
              "          file: file.name,\n",
              "          data: base64,\n",
              "        },\n",
              "      };\n",
              "\n",
              "      let percentDone = fileData.byteLength === 0 ?\n",
              "          100 :\n",
              "          Math.round((position / fileData.byteLength) * 100);\n",
              "      percent.textContent = `${percentDone}% done`;\n",
              "\n",
              "    } while (position < fileData.byteLength);\n",
              "  }\n",
              "\n",
              "  // All done.\n",
              "  yield {\n",
              "    response: {\n",
              "      action: 'complete',\n",
              "    }\n",
              "  };\n",
              "}\n",
              "\n",
              "scope.google = scope.google || {};\n",
              "scope.google.colab = scope.google.colab || {};\n",
              "scope.google.colab._files = {\n",
              "  _uploadFiles,\n",
              "  _uploadFilesContinue,\n",
              "};\n",
              "})(self);\n",
              "</script> "
            ]
          },
          "metadata": {}
        },
        {
          "output_type": "stream",
          "name": "stdout",
          "text": [
            "Saving sample.json to sample.json\n"
          ]
        }
      ]
    },
    {
      "cell_type": "markdown",
      "source": [
        "#### Problem : 2"
      ],
      "metadata": {
        "id": "FlPOj4TYxYxh"
      }
    },
    {
      "cell_type": "code",
      "source": [
        "import json\n",
        "def  Read_file(file_name):\n",
        "    '''\n",
        "        Read the json file and return the \"reviewerName\" category content.\n",
        "        Note: some of the rows don't contain the \"reviewerName\" category. Use exception handling to handle those errors.\n",
        "        INPUT\n",
        "            file_name: name of the json file to read\n",
        "        OUTPUT\n",
        "            return a list of entries of \"reviewerName\" category in all rows.\n",
        "        Example:\n",
        "            INPUT Json Content: {\"reviewerID\": \"AO94DHGC771SJ\", \"asin\": \"0528881469\", \"reviewerName\": \"amazdnu\", \"helpful\": [0, 0], \"reviewText\": \"We got this GPS for my husband who is an (OTR) over the road trucker.\", \"overall\": 5.0, \"summary\": \"Gotta have GPS!\", \"unixReviewTime\": 1370131200, \"reviewTime\": \"06 2, 2013\"}\n",
        "            OUTPUT: [\"amazdnu\"] \n",
        "        \n",
        "        Note: Replace the None with output in return statement.\n",
        "    '''\n",
        "    \n",
        "    # Write your code here\n",
        "    \n",
        "    reviewer_names = []\n",
        "    with open(file_name, 'r') as f:\n",
        "        for line in f:\n",
        "            try:\n",
        "                data = json.loads(line)\n",
        "                reviewer_names.append(data[\"reviewerName\"])\n",
        "            except KeyError:\n",
        "                pass\n",
        "    return reviewer_names\n",
        "print(Read_file('/sample.json'))"
      ],
      "metadata": {
        "id": "CqYfMH9gxZhx",
        "colab": {
          "base_uri": "https://localhost:8080/"
        },
        "outputId": "d5769b14-7258-4901-bcdf-2293b62e2044"
      },
      "execution_count": 27,
      "outputs": [
        {
          "output_type": "stream",
          "name": "stdout",
          "text": [
            "['amazdnu']\n"
          ]
        }
      ]
    },
    {
      "cell_type": "code",
      "source": [],
      "metadata": {
        "id": "aUX0Z-8lh2Jo"
      },
      "execution_count": null,
      "outputs": []
    },
    {
      "cell_type": "markdown",
      "source": [
        "#### Problem : 3"
      ],
      "metadata": {
        "id": "xkb7Lyp9xlqM"
      }
    },
    {
      "cell_type": "code",
      "source": [
        "def combine_lists(words,counts):\n",
        "    '''\n",
        "    Create a list comprehension by pairing elements in given two lists\n",
        "    INPUT\n",
        "        words: list containing the words\n",
        "        counts: list containing the frequencies of words\n",
        "    OUTPUT\n",
        "        combine: list containing the word,count tuple\n",
        "    Example:\n",
        "        input:\n",
        "            words = [\"A\",\"B\",\"C\",\"D\"]\n",
        "            counts = [1,2,3,4]\n",
        "        output:\n",
        "            [[\"A\",1],[\"B\",2],[\"C\",3],[\"D\",4]]\n",
        "    \n",
        "    Note: Replace the None with output in return statement.\n",
        "    '''\n",
        "    \n",
        "    # Write your code here\n",
        "    for i in range(0,n):\n",
        "      word_value=input(\"Enter Word value:\")\n",
        "      count_value=int(input(\"Enter count value:\"))\n",
        "      words.append(word_value)\n",
        "      counts.append(count_value)\n",
        "    com= [[a, b] for a, b in zip(words,counts)]\n",
        "    # End of your code block\n",
        "    return com\n",
        "    \n",
        "words=[]\n",
        "counts=[]\n",
        "com=[]\n",
        "n=int(input(\"enter n value for the size of list:\"))\n",
        "array=combine_lists(words,counts)\n",
        "print(array)"
      ],
      "metadata": {
        "id": "G667M9m8xmRQ",
        "colab": {
          "base_uri": "https://localhost:8080/"
        },
        "outputId": "33d990c4-aaae-44a5-84ab-49365b1703a4"
      },
      "execution_count": 16,
      "outputs": [
        {
          "output_type": "stream",
          "name": "stdout",
          "text": [
            "enter n value for the size of list:3\n",
            "Enter Word value:A\n",
            "Enter count value:1\n",
            "Enter Word value:B\n",
            "Enter count value:2\n",
            "Enter Word value:C\n",
            "Enter count value:3\n",
            "[['A', 1], ['B', 2], ['C', 3]]\n"
          ]
        }
      ]
    },
    {
      "cell_type": "markdown",
      "source": [
        "#### Problem : 4"
      ],
      "metadata": {
        "id": "UGrHgVtV7PTL"
      }
    },
    {
      "cell_type": "code",
      "source": [
        "def create_dict(keys,values):\n",
        "    '''\n",
        "    Create a dictionary using dictionary comprehension for the given keys and values lists (keys and values lists have same length)\n",
        "    INPUT\n",
        "        keys: list containing dictionary keys\n",
        "        values: list containing dictionary values\n",
        "    OUTPUT\n",
        "        new_dict: dictionary formed with keys and values lists\n",
        "    \n",
        "    Note: Replace the None with output in return statement.\n",
        "    Example 1:\n",
        "        input:\n",
        "            keys = ['a','b','c','dog']\n",
        "            values = ['apple','boy','cat','d']\n",
        "        output:\n",
        "            {'a':'apple','b':'boy','c':'cat','dog':'d'}\n",
        "    '''\n",
        "    \n",
        "    # Write your code here\n",
        "    for i in range(0,n):\n",
        "      keys.append(input(\"Enter key:\"))\n",
        "      values.append(input(\"Enter values:\"))\n",
        "    for j in range(0,n):\n",
        "      dicti[keys[j]]=values[j]  \n",
        "    # End of your code block\n",
        "    return dicti\n",
        "n=int(input(\"Enter length:\"))\n",
        "keys=[]\n",
        "values=[]\n",
        "dicti={}\n",
        "output=create_dict(keys,values)\n",
        "print(output)"
      ],
      "metadata": {
        "id": "gssoz_cp7QUZ",
        "colab": {
          "base_uri": "https://localhost:8080/"
        },
        "outputId": "7d2d2891-cb59-4fa4-88cc-94966ab4fab0"
      },
      "execution_count": 15,
      "outputs": [
        {
          "output_type": "stream",
          "name": "stdout",
          "text": [
            "Enter length:4\n",
            "Enter key:apple\n",
            "Enter values:2\n",
            "Enter key:banana\n",
            "Enter values:5\n",
            "Enter key:cat\n",
            "Enter values:6\n",
            "Enter key:dog\n",
            "Enter values:7\n",
            "{'apple': '2', 'banana': '5', 'cat': '6', 'dog': '7'}\n"
          ]
        }
      ]
    },
    {
      "cell_type": "markdown",
      "source": [
        "#### Problem : 5"
      ],
      "metadata": {
        "id": "-0niYWqs7Uxv"
      }
    },
    {
      "cell_type": "code",
      "source": [
        "def sum_ndarray(elements):\n",
        "    '''\n",
        "    Create an nd array using numpy and add the elements in given list to it and perform the sum operation\n",
        "    INPUT\n",
        "        elements: list of elements\n",
        "    OUTPUT\n",
        "        return the sum of the elements\n",
        "    Example:\n",
        "        input:\n",
        "            elements = [1,2,3,4]\n",
        "        output:\n",
        "            10\n",
        "    Note: Replace the None with output in return statement.\n",
        "    '''\n",
        "    # Write your code here\n",
        "    sum=0\n",
        "\n",
        "    for i in range(0,n):\n",
        "      elements.append(int(input()))\n",
        "    for j in elements:\n",
        "      sum+=j\n",
        "    # End of your code block\n",
        "    return sum\n",
        "  \n",
        "n=int(input(\"enter no of elements in list:\"))\n",
        "elements=[]\n",
        "sum=sum_ndarray(elements)\n",
        "print(sum)"
      ],
      "metadata": {
        "id": "4PC7AW-37X2Q",
        "colab": {
          "base_uri": "https://localhost:8080/"
        },
        "outputId": "8d4fc300-3f39-4ba9-edc0-f9abeb1d5c1a"
      },
      "execution_count": 18,
      "outputs": [
        {
          "output_type": "stream",
          "name": "stdout",
          "text": [
            "enter no of elements in list:5\n",
            "4\n",
            "5\n",
            "6\n",
            "7\n",
            "8\n",
            "30\n"
          ]
        }
      ]
    },
    {
      "cell_type": "markdown",
      "source": [
        "#### Problem : 6"
      ],
      "metadata": {
        "id": "Xc_plnjb_6Qy"
      }
    },
    {
      "cell_type": "code",
      "source": [
        "def dot_product(matrix,vector):\n",
        "    '''\n",
        "    Find out the dot product for the given matrix and column vector using numpy (don't use np.dot() function. Implement from scratch)\n",
        "    INPUT\n",
        "        matrix: numpy matrix with (m,n) dimension\n",
        "        vector: numpy vector with (n,1) dimension\n",
        "    OUTPUT\n",
        "        return dot product of given matrix and vector\n",
        "    Example:\n",
        "        input:\n",
        "            matrix = np.array([[1,2,3], [4,5,6]])\n",
        "            vector = np.array([[1],[0],[1]])\n",
        "        output:\n",
        "            np.array([[4],[10]])\n",
        "    Note: Replace the None with output in return statement.\n",
        "    '''\n",
        "    \n",
        "    # Write your code here\n",
        "    product=matrix @ vector\n",
        "    \n",
        "    # End of your code block\n",
        "    \n",
        "    return product\n",
        "\n",
        "import numpy as np\n",
        "matrix=np.array([[1,2,3],[4,5,6]])\n",
        "vector=np.array([[1],[0],[1]])\n",
        "product=dot_product(matrix,vector)\n",
        "print(product)"
      ],
      "metadata": {
        "id": "34jHXQtT_7C_",
        "colab": {
          "base_uri": "https://localhost:8080/"
        },
        "outputId": "74011532-39ae-4ae6-cd0e-8201c3b3d8ef"
      },
      "execution_count": 19,
      "outputs": [
        {
          "output_type": "stream",
          "name": "stdout",
          "text": [
            "[[ 4]\n",
            " [10]]\n"
          ]
        }
      ]
    },
    {
      "cell_type": "markdown",
      "source": [
        "#### Problem : 7"
      ],
      "metadata": {
        "id": "2Nt9h_9YABFn"
      }
    },
    {
      "cell_type": "code",
      "source": [
        "import json\n",
        "import pandas as pd\n",
        "import numpy as np\n",
        "def split_words(file_path):\n",
        "    '''\n",
        "    Read the input json file using pandas, extract \"reviewText\" and split each sentence as words and store them in the np array (split with space)\n",
        "    INPUT\n",
        "        file_path: json file path to read\n",
        "    OUTPUT\n",
        "        return a list of words (use only space as the separator) stored in numpy array.\n",
        "    HINT:\n",
        "        Use json library to read the json file and apply pd.json_normalize() to the result\n",
        "    \n",
        "    Example:\n",
        "        INPUT Json Content: {\"reviewerID\": \"AO94DHGC771SJ\", \"asin\": \"0528881469\", \"reviewerName\": \"amazdnu\", \"helpful\": [0, 0], \"reviewText\": \"We got this GPS for my husband who is an (OTR) over the road trucker.\", \"overall\": 5.0, \"summary\": \"Gotta have GPS!\", \"unixReviewTime\": 1370131200, \"reviewTime\": \"06 2, 2013\"}\n",
        "        OUTPUT: [\"We\",\"got\",\"this\",\"GPS\",\"for\",\"my\",\"husband\",\"who\",\"is\",\"an\",\"(OTR)\",\"over\",\"the\",\"road\",\"trucker.\"]\n",
        "    \n",
        "    \n",
        "    Note: Replace the None with output in return statement.\n",
        "    '''\n",
        "    \n",
        "    # Write your code here\n",
        "    \n",
        "    with open(file_path, 'r') as f:\n",
        "        file = [json.loads(line) for line in f]\n",
        "    dataframe = pd.json_normalize(file)\n",
        "    list1 = dataframe[\"reviewText\"].str.split().values\n",
        "    words = np.concatenate(list1)\n",
        "    return words  \n",
        "print(split_words('/sample.json'))\n",
        "    \n",
        "    # End of your code block\n"
      ],
      "metadata": {
        "id": "-E9yd3cuABgW",
        "colab": {
          "base_uri": "https://localhost:8080/"
        },
        "outputId": "6fd7c309-38bf-4f3f-891b-eeee764cdb40"
      },
      "execution_count": 26,
      "outputs": [
        {
          "output_type": "stream",
          "name": "stdout",
          "text": [
            "['We' 'got' 'this' 'GPS' 'for' 'my' 'husband' 'who' 'is' 'an' '(OTR)'\n",
            " 'over' 'the' 'road' 'trucker.']\n"
          ]
        }
      ]
    },
    {
      "cell_type": "code",
      "source": [
        "from google.colab import files\n",
        "uploaded = files.upload()"
      ],
      "metadata": {
        "colab": {
          "base_uri": "https://localhost:8080/",
          "height": 73
        },
        "id": "Ez5HN-xFCkPB",
        "outputId": "bc32c2dc-be27-4123-b3f1-27af022680dc"
      },
      "execution_count": null,
      "outputs": [
        {
          "output_type": "display_data",
          "data": {
            "text/plain": [
              "<IPython.core.display.HTML object>"
            ],
            "text/html": [
              "\n",
              "     <input type=\"file\" id=\"files-385b6b7f-6f2b-4791-9d53-697396713b0b\" name=\"files[]\" multiple disabled\n",
              "        style=\"border:none\" />\n",
              "     <output id=\"result-385b6b7f-6f2b-4791-9d53-697396713b0b\">\n",
              "      Upload widget is only available when the cell has been executed in the\n",
              "      current browser session. Please rerun this cell to enable.\n",
              "      </output>\n",
              "      <script>// Copyright 2017 Google LLC\n",
              "//\n",
              "// Licensed under the Apache License, Version 2.0 (the \"License\");\n",
              "// you may not use this file except in compliance with the License.\n",
              "// You may obtain a copy of the License at\n",
              "//\n",
              "//      http://www.apache.org/licenses/LICENSE-2.0\n",
              "//\n",
              "// Unless required by applicable law or agreed to in writing, software\n",
              "// distributed under the License is distributed on an \"AS IS\" BASIS,\n",
              "// WITHOUT WARRANTIES OR CONDITIONS OF ANY KIND, either express or implied.\n",
              "// See the License for the specific language governing permissions and\n",
              "// limitations under the License.\n",
              "\n",
              "/**\n",
              " * @fileoverview Helpers for google.colab Python module.\n",
              " */\n",
              "(function(scope) {\n",
              "function span(text, styleAttributes = {}) {\n",
              "  const element = document.createElement('span');\n",
              "  element.textContent = text;\n",
              "  for (const key of Object.keys(styleAttributes)) {\n",
              "    element.style[key] = styleAttributes[key];\n",
              "  }\n",
              "  return element;\n",
              "}\n",
              "\n",
              "// Max number of bytes which will be uploaded at a time.\n",
              "const MAX_PAYLOAD_SIZE = 100 * 1024;\n",
              "\n",
              "function _uploadFiles(inputId, outputId) {\n",
              "  const steps = uploadFilesStep(inputId, outputId);\n",
              "  const outputElement = document.getElementById(outputId);\n",
              "  // Cache steps on the outputElement to make it available for the next call\n",
              "  // to uploadFilesContinue from Python.\n",
              "  outputElement.steps = steps;\n",
              "\n",
              "  return _uploadFilesContinue(outputId);\n",
              "}\n",
              "\n",
              "// This is roughly an async generator (not supported in the browser yet),\n",
              "// where there are multiple asynchronous steps and the Python side is going\n",
              "// to poll for completion of each step.\n",
              "// This uses a Promise to block the python side on completion of each step,\n",
              "// then passes the result of the previous step as the input to the next step.\n",
              "function _uploadFilesContinue(outputId) {\n",
              "  const outputElement = document.getElementById(outputId);\n",
              "  const steps = outputElement.steps;\n",
              "\n",
              "  const next = steps.next(outputElement.lastPromiseValue);\n",
              "  return Promise.resolve(next.value.promise).then((value) => {\n",
              "    // Cache the last promise value to make it available to the next\n",
              "    // step of the generator.\n",
              "    outputElement.lastPromiseValue = value;\n",
              "    return next.value.response;\n",
              "  });\n",
              "}\n",
              "\n",
              "/**\n",
              " * Generator function which is called between each async step of the upload\n",
              " * process.\n",
              " * @param {string} inputId Element ID of the input file picker element.\n",
              " * @param {string} outputId Element ID of the output display.\n",
              " * @return {!Iterable<!Object>} Iterable of next steps.\n",
              " */\n",
              "function* uploadFilesStep(inputId, outputId) {\n",
              "  const inputElement = document.getElementById(inputId);\n",
              "  inputElement.disabled = false;\n",
              "\n",
              "  const outputElement = document.getElementById(outputId);\n",
              "  outputElement.innerHTML = '';\n",
              "\n",
              "  const pickedPromise = new Promise((resolve) => {\n",
              "    inputElement.addEventListener('change', (e) => {\n",
              "      resolve(e.target.files);\n",
              "    });\n",
              "  });\n",
              "\n",
              "  const cancel = document.createElement('button');\n",
              "  inputElement.parentElement.appendChild(cancel);\n",
              "  cancel.textContent = 'Cancel upload';\n",
              "  const cancelPromise = new Promise((resolve) => {\n",
              "    cancel.onclick = () => {\n",
              "      resolve(null);\n",
              "    };\n",
              "  });\n",
              "\n",
              "  // Wait for the user to pick the files.\n",
              "  const files = yield {\n",
              "    promise: Promise.race([pickedPromise, cancelPromise]),\n",
              "    response: {\n",
              "      action: 'starting',\n",
              "    }\n",
              "  };\n",
              "\n",
              "  cancel.remove();\n",
              "\n",
              "  // Disable the input element since further picks are not allowed.\n",
              "  inputElement.disabled = true;\n",
              "\n",
              "  if (!files) {\n",
              "    return {\n",
              "      response: {\n",
              "        action: 'complete',\n",
              "      }\n",
              "    };\n",
              "  }\n",
              "\n",
              "  for (const file of files) {\n",
              "    const li = document.createElement('li');\n",
              "    li.append(span(file.name, {fontWeight: 'bold'}));\n",
              "    li.append(span(\n",
              "        `(${file.type || 'n/a'}) - ${file.size} bytes, ` +\n",
              "        `last modified: ${\n",
              "            file.lastModifiedDate ? file.lastModifiedDate.toLocaleDateString() :\n",
              "                                    'n/a'} - `));\n",
              "    const percent = span('0% done');\n",
              "    li.appendChild(percent);\n",
              "\n",
              "    outputElement.appendChild(li);\n",
              "\n",
              "    const fileDataPromise = new Promise((resolve) => {\n",
              "      const reader = new FileReader();\n",
              "      reader.onload = (e) => {\n",
              "        resolve(e.target.result);\n",
              "      };\n",
              "      reader.readAsArrayBuffer(file);\n",
              "    });\n",
              "    // Wait for the data to be ready.\n",
              "    let fileData = yield {\n",
              "      promise: fileDataPromise,\n",
              "      response: {\n",
              "        action: 'continue',\n",
              "      }\n",
              "    };\n",
              "\n",
              "    // Use a chunked sending to avoid message size limits. See b/62115660.\n",
              "    let position = 0;\n",
              "    do {\n",
              "      const length = Math.min(fileData.byteLength - position, MAX_PAYLOAD_SIZE);\n",
              "      const chunk = new Uint8Array(fileData, position, length);\n",
              "      position += length;\n",
              "\n",
              "      const base64 = btoa(String.fromCharCode.apply(null, chunk));\n",
              "      yield {\n",
              "        response: {\n",
              "          action: 'append',\n",
              "          file: file.name,\n",
              "          data: base64,\n",
              "        },\n",
              "      };\n",
              "\n",
              "      let percentDone = fileData.byteLength === 0 ?\n",
              "          100 :\n",
              "          Math.round((position / fileData.byteLength) * 100);\n",
              "      percent.textContent = `${percentDone}% done`;\n",
              "\n",
              "    } while (position < fileData.byteLength);\n",
              "  }\n",
              "\n",
              "  // All done.\n",
              "  yield {\n",
              "    response: {\n",
              "      action: 'complete',\n",
              "    }\n",
              "  };\n",
              "}\n",
              "\n",
              "scope.google = scope.google || {};\n",
              "scope.google.colab = scope.google.colab || {};\n",
              "scope.google.colab._files = {\n",
              "  _uploadFiles,\n",
              "  _uploadFilesContinue,\n",
              "};\n",
              "})(self);\n",
              "</script> "
            ]
          },
          "metadata": {}
        },
        {
          "output_type": "stream",
          "name": "stdout",
          "text": [
            "Saving ratings.csv to ratings.csv\n"
          ]
        }
      ]
    },
    {
      "cell_type": "markdown",
      "source": [
        "#### Problem : 8"
      ],
      "metadata": {
        "id": "pd-4qcI-AHL8"
      }
    },
    {
      "cell_type": "code",
      "source": [
        "import pandas as pd\n",
        "file_path=pd.read_csv(\"ratings.csv\")\n",
        "def read_ratings(file_path):\n",
        "    count=0\n",
        "    '''\n",
        "    Load the movie ratings csv file using pandas.\n",
        "    store them in a Dataframe and find the count of movies rating >= 3.5\n",
        "    INPUT\n",
        "        file_path: csv file path to read\n",
        "    OUTPUT\n",
        "        return the count value\n",
        "    \n",
        "    Note: Replace the None with output in return statement.\n",
        "    '''\n",
        "    val=file_path[\"rating\"]>=3.5\n",
        "    for i in val:\n",
        "      if(i is True):\n",
        "        count+=1\n",
        "    \n",
        "    # Write your code here\n",
        "    \n",
        "    # End of your code block\n",
        "    \n",
        "    \n",
        "    return count\n",
        "count=read_ratings(file_path)\n",
        "print(count)"
      ],
      "metadata": {
        "id": "gXQ4aLd4AHjH",
        "colab": {
          "base_uri": "https://localhost:8080/"
        },
        "outputId": "640c2483-5e8b-4041-f72d-dddde8903926"
      },
      "execution_count": null,
      "outputs": [
        {
          "output_type": "stream",
          "name": "stdout",
          "text": [
            "92\n"
          ]
        }
      ]
    },
    {
      "cell_type": "markdown",
      "source": [
        "#### Problem : 9"
      ],
      "metadata": {
        "id": "9lSEgtDFANJt"
      }
    },
    {
      "cell_type": "code",
      "source": [
        "import json\n",
        "import pandas as pd\n",
        "import matplotlib.pyplot as plt\n",
        "from collections import Counter\n",
        "def word_frequencies(file_path):\n",
        "    '''\n",
        "    Read the json file and extract each \"reviewText\" category as pandas data frame and find out the unique word frequencies.\n",
        "    INPUT\n",
        "        file_path: json file path to read \"reviewText\" category text and split into the list of words\n",
        "    OUTPUT\n",
        "        Plot the bar plot for the top 10 frequency word in the list with their frequencies\n",
        "    \n",
        "    Note: You can get words using split_words() function here...\n",
        "    '''\n",
        "    \n",
        "    # Write your code here\n",
        "def split_words(text):\n",
        "    return text.lower().split()\n",
        "def word_frequencies(file_path):\n",
        "    with open(file_path) as f:\n",
        "        data = json.load(f)\n",
        "    reviews = pd.DataFrame(data)['reviewText']\n",
        "    word_counts = Counter()\n",
        "    for review in reviews:\n",
        "        words = split_words(review)\n",
        "        word_counts.update(words)\n",
        "    top_words = dict(word_counts.most_common(10))\n",
        "    plt.bar(top_words.keys(), top_words.values())\n",
        "    plt.show()\n",
        "print(word_frequencies('/sample.json'))"
      ],
      "metadata": {
        "id": "uyDs51sJANf4",
        "colab": {
          "base_uri": "https://localhost:8080/",
          "height": 448
        },
        "outputId": "0c8b02fe-6d13-4dc1-910a-146292f9e5d8"
      },
      "execution_count": 28,
      "outputs": [
        {
          "output_type": "display_data",
          "data": {
            "text/plain": [
              "<Figure size 640x480 with 1 Axes>"
            ],
            "image/png": "[encoded data removed]"
          },
          "metadata": {}
        },
        {
          "output_type": "stream",
          "name": "stdout",
          "text": [
            "None\n"
          ]
        }
      ]
    }
  ]
}